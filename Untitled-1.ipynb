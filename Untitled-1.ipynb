{
 "cells": [
  {
   "cell_type": "code",
   "execution_count": 15,
   "metadata": {},
   "outputs": [
    {
     "name": "stdout",
     "output_type": "stream",
     "text": [
      "Amount minus 50\n"
     ]
    }
   ],
   "source": [
    "item_1 = 150\n",
    "item_2 = 200\n",
    "item_3 = 300\n",
    "\n",
    "budget = 600\n",
    "\n",
    "total = item_1 + item_2 + item_3\n",
    "\n",
    "b = budget - total\n",
    "t = total - budget \n",
    "\n",
    "if budget > total:\n",
    "    print(f'The rest of money ',(b))\n",
    "    \n",
    "\n",
    "elif budget - total ==0:\n",
    "     print('the rest of money = 0')\n",
    "    \n",
    "    \n",
    "else:\n",
    "     print(f'Amount minus',(t))\n"
   ]
  }
 ],
 "metadata": {
  "kernelspec": {
   "display_name": "Python 3",
   "language": "python",
   "name": "python3"
  },
  "language_info": {
   "codemirror_mode": {
    "name": "ipython",
    "version": 3
   },
   "file_extension": ".py",
   "mimetype": "text/x-python",
   "name": "python",
   "nbconvert_exporter": "python",
   "pygments_lexer": "ipython3",
   "version": "3.13.1"
  }
 },
 "nbformat": 4,
 "nbformat_minor": 2
}
